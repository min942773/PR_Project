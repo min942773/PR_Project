{
 "cells": [
  {
   "cell_type": "code",
   "execution_count": null,
   "metadata": {
    "colab": {
     "base_uri": "https://localhost:8080/",
     "height": 336
    },
    "colab_type": "code",
    "id": "ziRhlOsR2h_0",
    "outputId": "7579302d-5188-48a9-a1c5-10a3eb13d293"
   },
   "outputs": [],
   "source": [
    "! pip install kmc2"
   ]
  },
  {
   "cell_type": "code",
   "execution_count": null,
   "metadata": {
    "colab": {
     "base_uri": "https://localhost:8080/",
     "height": 424
    },
    "colab_type": "code",
    "id": "yjjMPREcDpZp",
    "outputId": "fbc0bfde-989b-401a-8d32-53a616648ada"
   },
   "outputs": [],
   "source": [
    "! yes | pip3 uninstall opencv-python\n",
    "! yes | pip3 uninstall opencv-contrib-python\n",
    "! yes | pip3 install opencv-python==3.4.2.16\n",
    "! yes | pip3 install opencv-contrib-python==3.4.2.16"
   ]
  },
  {
   "cell_type": "code",
   "execution_count": null,
   "metadata": {
    "colab": {},
    "colab_type": "code",
    "id": "VVsb9ARbAXHJ"
   },
   "outputs": [],
   "source": [
    "from sklearn.decomposition import MiniBatchDictionaryLearning\n",
    "from sklearn.decomposition import DictionaryLearning\n",
    "from sklearn.model_selection import train_test_split\n",
    "from sklearn.neighbors import KNeighborsClassifier\n",
    "from sklearn.model_selection import GridSearchCV\n",
    "from sklearn.preprocessing import StandardScaler\n",
    "from sklearn.decomposition import SparseCoder\n",
    "from sklearn.cluster import MiniBatchKMeans\n",
    "from sklearn.metrics import accuracy_score\n",
    "from sklearn.datasets import load_iris\n",
    "from sklearn.decomposition import PCA\n",
    "from matplotlib import pyplot as plt\n",
    "from sklearn.cluster import KMeans\n",
    "from sklearn.svm import LinearSVC\n",
    "from sklearn.svm import SVC\n",
    "from imutils import paths\n",
    "\n",
    "import matplotlib.pyplot as plt\n",
    "import scipy.cluster.vq as vq\n",
    "import _pickle as cPickle\n",
    "import pandas as pd\n",
    "import numpy as np\n",
    "import imutils \n",
    "import torch\n",
    "import time\n",
    "import math\n",
    "import copy\n",
    "import kmc2\n",
    "import cv2 \n",
    "import os"
   ]
  },
  {
   "cell_type": "markdown",
   "metadata": {
    "colab_type": "text",
    "id": "e7PqTcCsB1zD"
   },
   "source": [
    "## 데이터 불러오기"
   ]
  },
  {
   "cell_type": "code",
   "execution_count": null,
   "metadata": {
    "colab": {
     "base_uri": "https://localhost:8080/",
     "height": 459
    },
    "colab_type": "code",
    "id": "AWeB9kfU9C37",
    "outputId": "e27598d5-273f-41a1-cada-7ad2796505ad"
   },
   "outputs": [],
   "source": [
    "!ls -lha kaggle.json\n",
    "\n",
    "!pip uninstall -y kaggle\n",
    "!pip install --upgrade pip\n",
    "!pip install kaggle==1.5.6"
   ]
  },
  {
   "cell_type": "code",
   "execution_count": null,
   "metadata": {
    "colab": {
     "base_uri": "https://localhost:8080/",
     "height": 34
    },
    "colab_type": "code",
    "id": "HaO27lL194dt",
    "outputId": "f02abe89-21f5-40bd-8cc8-1b53add839d2"
   },
   "outputs": [],
   "source": [
    "! mkdir -p ~/.kaggle\n",
    "! cp kaggle.json ~/.kaggle/\n",
    "! chmod 600 ~/.kaggle/kaggle.json\n",
    "\n",
    "! kaggle -v"
   ]
  },
  {
   "cell_type": "code",
   "execution_count": null,
   "metadata": {
    "colab": {
     "base_uri": "https://localhost:8080/",
     "height": 1000
    },
    "colab_type": "code",
    "id": "pj9fzlOt98kh",
    "outputId": "c14e9fc0-ff85-46c4-91ca-5ba082fd0647"
   },
   "outputs": [],
   "source": [
    "! kaggle competitions download -c 2019-ml-finalproject\n",
    "! A | unzip 2019-ml-finalproject.zip"
   ]
  },
  {
   "cell_type": "code",
   "execution_count": null,
   "metadata": {
    "colab": {},
    "colab_type": "code",
    "id": "0w3i-NmGALik"
   },
   "outputs": [],
   "source": [
    "caltech_dir = \"/content/train/\"\n",
    "lists = paths.list_images(caltech_dir)"
   ]
  },
  {
   "cell_type": "code",
   "execution_count": null,
   "metadata": {
    "colab": {
     "base_uri": "https://localhost:8080/",
     "height": 34
    },
    "colab_type": "code",
    "id": "w1LIdl5CDoWG",
    "outputId": "aeb4a119-886b-4e0e-850b-f608518ce915"
   },
   "outputs": [],
   "source": [
    "X = []\n",
    "y = []\n",
    "\n",
    "for l in lists:\n",
    "  path = os.path.dirname(l)\n",
    "  # if l[15] != 'B':\n",
    "  img = cv2.imread(l)\n",
    "  img = cv2.resize(img, dsize=(256, 256))\n",
    "  X.append(img)\n",
    "  y.append(os.path.basename(path))\n",
    "\n",
    "# categories.remove('BACKGROUND_Google') # it contains all kinds of images. \n",
    "print(len(X))"
   ]
  },
  {
   "cell_type": "code",
   "execution_count": null,
   "metadata": {
    "colab": {
     "base_uri": "https://localhost:8080/",
     "height": 52
    },
    "colab_type": "code",
    "id": "mnOHJpq7IwAw",
    "outputId": "49590097-77bd-4db4-f317-6111072a641f"
   },
   "outputs": [],
   "source": [
    "X = np.array(X)\n",
    "y = np.array(y)\n",
    "\n",
    "print(X.shape)\n",
    "print(y.shape)"
   ]
  },
  {
   "cell_type": "code",
   "execution_count": null,
   "metadata": {
    "colab": {},
    "colab_type": "code",
    "id": "orO5Jo9pzoaL"
   },
   "outputs": [],
   "source": [
    "def computeSIFT(data):\n",
    "    x = []\n",
    "    for i in range(0, len(data)):\n",
    "        sift = cv2.xfeatures2d.SIFT_create()\n",
    "        img = data[i]\n",
    "        img_gray = cv2.cvtColor(img, cv2.COLOR_BGR2GRAY)\n",
    "        kp, des = sift.detectAndCompute(img_gray, None)\n",
    "        x.append(des)\n",
    "\n",
    "    return x"
   ]
  },
  {
   "cell_type": "code",
   "execution_count": null,
   "metadata": {
    "colab": {},
    "colab_type": "code",
    "id": "vqcuEGnNuJED"
   },
   "outputs": [],
   "source": [
    "def computeSIFT(data):\n",
    "    x = []\n",
    "    for i in range(0, len(data)):\n",
    "        sift = cv2.xfeatures2d.SIFT_create()\n",
    "        img = data[i]\n",
    "        img_gray = cv2.cvtColor(img, cv2.COLOR_BGR2GRAY)\n",
    "        step_size = 8\n",
    "        kp = [cv2.KeyPoint(x, y, step_size)\n",
    "              for x in range(0, img_gray.shape[0], step_size) \n",
    "                for y in range(0, img_gray.shape[1], step_size)]\n",
    "        dense_feat = sift.compute(img_gray, kp)\n",
    "        x.append(dense_feat[1])\n",
    "        \n",
    "    return x"
   ]
  },
  {
   "cell_type": "code",
   "execution_count": null,
   "metadata": {
    "colab": {},
    "colab_type": "code",
    "id": "OpVTJC6JuIyb"
   },
   "outputs": [],
   "source": [
    "X_sift = computeSIFT(X)"
   ]
  },
  {
   "cell_type": "code",
   "execution_count": null,
   "metadata": {
    "colab": {
     "base_uri": "https://localhost:8080/",
     "height": 34
    },
    "colab_type": "code",
    "id": "r_g-cGhqCt3c",
    "outputId": "a054361f-358a-4c63-db9e-69857379bc9d"
   },
   "outputs": [],
   "source": [
    "X_sift = np.array(X_sift)\n",
    "X_sift.shape"
   ]
  },
  {
   "cell_type": "code",
   "execution_count": null,
   "metadata": {
    "colab": {
     "base_uri": "https://localhost:8080/",
     "height": 72
    },
    "colab_type": "code",
    "id": "dSGJVGKda9Gh",
    "outputId": "328896ef-0c0f-43df-c93c-cd7c91d2b9d9"
   },
   "outputs": [],
   "source": [
    "all_train_desc = np.vstack((descriptor for descriptor in X_sift))"
   ]
  },
  {
   "cell_type": "code",
   "execution_count": null,
   "metadata": {
    "colab": {
     "base_uri": "https://localhost:8080/",
     "height": 34
    },
    "colab_type": "code",
    "id": "GpUBy5zXdtZN",
    "outputId": "bc2b1a4e-6210-49ee-ae7a-176d4a2872e8"
   },
   "outputs": [],
   "source": [
    "all_train_desc.shape"
   ]
  },
  {
   "cell_type": "code",
   "execution_count": null,
   "metadata": {
    "colab": {},
    "colab_type": "code",
    "id": "TFUKhZMb5KvX"
   },
   "outputs": [],
   "source": [
    "# with open('/content/drive/My Drive/Colab Notebooks/all_train_desc_sc.pkl','wb') as f:\n",
    "#   cPickle.dump(all_train_desc, f)"
   ]
  },
  {
   "cell_type": "code",
   "execution_count": null,
   "metadata": {
    "colab": {},
    "colab_type": "code",
    "id": "jZzxD6_CJvmG"
   },
   "outputs": [],
   "source": [
    "def clusterFeatures(all_train_desc, k):\n",
    "    seeding = kmc2.kmc2(all_train_desc, k)\n",
    "    model = MiniBatchKMeans(k, init=seeding).fit(all_train_desc)\n",
    "    return model"
   ]
  },
  {
   "cell_type": "code",
   "execution_count": null,
   "metadata": {
    "colab": {
     "base_uri": "https://localhost:8080/",
     "height": 107
    },
    "colab_type": "code",
    "id": "OFGXJr0c6WQN",
    "outputId": "4a6a17a0-088a-4d04-b5e3-06b4f65fce01"
   },
   "outputs": [],
   "source": [
    "kmeans = clusterFeatures(all_train_desc, 600)"
   ]
  },
  {
   "cell_type": "code",
   "execution_count": null,
   "metadata": {
    "colab": {},
    "colab_type": "code",
    "id": "4GO7lxIrUoui"
   },
   "outputs": [],
   "source": [
    "def extract_denseSIFT(img):\n",
    "    sift = cv2.xfeatures2d.SIFT_create()\n",
    "    disft_step_size = 8\n",
    "    img_gray = cv2.cvtColor(img, cv2.COLOR_BGR2GRAY)\n",
    "    keypoints = [cv2.KeyPoint(x, y, disft_step_size)\n",
    "            for y in range(0, img_gray.shape[0], disft_step_size)\n",
    "                for x in range(0, img_gray.shape[1], disft_step_size)]\n",
    "\n",
    "    descriptors = sift.compute(img_gray, keypoints)[1]\n",
    "\n",
    "    return descriptors"
   ]
  },
  {
   "cell_type": "code",
   "execution_count": null,
   "metadata": {
    "colab": {},
    "colab_type": "code",
    "id": "dm3TTjD0Uwy9"
   },
   "outputs": [],
   "source": [
    "def getImageFeaturesSPM(L, img, kmeans, k):\n",
    "    W = 256\n",
    "    H = 256\n",
    "    step_size=8\n",
    "    W_des = int(W/step_size)\n",
    "    H_des = int(H/step_size)  \n",
    "    h = []\n",
    "\n",
    "    img = img.reshape(H_des, W_des, 128)\n",
    "    for l in range(L+1):\n",
    "        w_step = math.floor(W/(2**l))\n",
    "        h_step = math.floor(H/(2**l))\n",
    "        x, y = 0, 0\n",
    "        for i in range(1,2**l + 1):\n",
    "            x = 0\n",
    "            for j in range(1, 2**l + 1):\n",
    "                desc = img[y:y+h_step, x:x+w_step, :].reshape(-1, 128)\n",
    "                histo = input_vector_encoder(desc, kmeans.cluster_centers_)\n",
    "                weight = 2**(l-L)\n",
    "                h.append(weight*histo)\n",
    "                x = x + w_step\n",
    "            y = y + h_step\n",
    "            \n",
    "    hist = np.array(h).ravel()\n",
    "    if L == 0:\n",
    "        hist = hist.astype('float64')\n",
    "    dev = np.std(hist)\n",
    "    hist -= np.mean(hist)\n",
    "    hist /= dev\n",
    "    return hist"
   ]
  },
  {
   "cell_type": "code",
   "execution_count": null,
   "metadata": {
    "colab": {},
    "colab_type": "code",
    "id": "CUArYz4OU4vj"
   },
   "outputs": [],
   "source": [
    "def getHistogramSPM(L, data, kmeans, k):    \n",
    "    x = []\n",
    "    for i in range(len(data)):        \n",
    "        hist = getImageFeaturesSPM(L, data[i], kmeans, k)        \n",
    "        x.append(hist)\n",
    "    return np.array(x)"
   ]
  },
  {
   "cell_type": "code",
   "execution_count": null,
   "metadata": {
    "colab": {},
    "colab_type": "code",
    "id": "BBq1JOR69bS4"
   },
   "outputs": [],
   "source": [
    "def input_vector_encoder(feature, codebook):\n",
    "    code, _ = vq(feature, codebook)\n",
    "    word_hist, bin_edges = np.histogram(code, bins=range(codebook.shape[0] + 1), normed=True)\n",
    "    return word_hist"
   ]
  },
  {
   "cell_type": "code",
   "execution_count": null,
   "metadata": {
    "colab": {
     "base_uri": "https://localhost:8080/",
     "height": 316
    },
    "colab_type": "code",
    "id": "LChYrojee7tT",
    "outputId": "5cc901c3-6b2e-43de-d982-b43d5169baba"
   },
   "outputs": [],
   "source": [
    "train_histo = getHistogramSPM(2, X_sift, kmeans, 600)"
   ]
  },
  {
   "cell_type": "code",
   "execution_count": null,
   "metadata": {
    "colab": {},
    "colab_type": "code",
    "id": "gfhNZwAeQD9d"
   },
   "outputs": [],
   "source": [
    "clf = LinearSVC(random_state=0, C=0.001)\n",
    "clf.fit(train_histo, y)"
   ]
  },
  {
   "cell_type": "code",
   "execution_count": null,
   "metadata": {
    "colab": {},
    "colab_type": "code",
    "id": "wdjkcwG1fC1n"
   },
   "outputs": [],
   "source": [
    "# C_range = 10.0 ** np.arange(-3, 3)\n",
    "# param_grid = dict(C=C_range.tolist())\n",
    "# clf = GridSearchCV(LinearSVC(), param_grid, cv=5, n_jobs=-2)\n",
    "# clf.fit(train_histo, y)"
   ]
  },
  {
   "cell_type": "code",
   "execution_count": null,
   "metadata": {
    "colab": {},
    "colab_type": "code",
    "id": "CURPd20z7inn"
   },
   "outputs": [],
   "source": [
    "# clf.best_params_"
   ]
  },
  {
   "cell_type": "code",
   "execution_count": null,
   "metadata": {
    "colab": {},
    "colab_type": "code",
    "id": "UWwcQwiFAci-"
   },
   "outputs": [],
   "source": [
    "caltech_dir = \"/content/testAll_v2/\"\n",
    "lists = paths.list_images(caltech_dir)\n",
    "\n",
    "X_final = []\n",
    "img_name = []\n",
    "for l in lists:\n",
    "  path = os.path.dirname(l)\n",
    "  img = cv2.imread(l)\n",
    "  img = cv2.resize(img, dsize=(256, 256))\n",
    "  X_final.append(img)\n",
    "  img_name.append(l[-14:])"
   ]
  },
  {
   "cell_type": "code",
   "execution_count": null,
   "metadata": {
    "colab": {},
    "colab_type": "code",
    "id": "9i-qucBzTWR0"
   },
   "outputs": [],
   "source": [
    "X_final = np.array(X_final)"
   ]
  },
  {
   "cell_type": "code",
   "execution_count": null,
   "metadata": {
    "colab": {
     "base_uri": "https://localhost:8080/",
     "height": 34
    },
    "colab_type": "code",
    "id": "TRG3YRG4TZlG",
    "outputId": "32d573a1-dd20-4911-8a9d-25c03267e5fb"
   },
   "outputs": [],
   "source": [
    "X_final.shape"
   ]
  },
  {
   "cell_type": "code",
   "execution_count": null,
   "metadata": {
    "colab": {
     "base_uri": "https://localhost:8080/",
     "height": 316
    },
    "colab_type": "code",
    "id": "YEPpXK4gTp42",
    "outputId": "61daf026-aed7-4728-903f-42ed1c33650b"
   },
   "outputs": [],
   "source": [
    "X_histo = getHistogramSPM(2, X_final, kmeans, 600)"
   ]
  },
  {
   "cell_type": "code",
   "execution_count": null,
   "metadata": {
    "colab": {},
    "colab_type": "code",
    "id": "8TwZUBFxTamy"
   },
   "outputs": [],
   "source": [
    "y_predict = clf.predict(X_histo)"
   ]
  },
  {
   "cell_type": "code",
   "execution_count": null,
   "metadata": {
    "colab": {},
    "colab_type": "code",
    "id": "P_8c-3iAYaAy"
   },
   "outputs": [],
   "source": [
    "len(y_predict)"
   ]
  },
  {
   "cell_type": "code",
   "execution_count": null,
   "metadata": {
    "colab": {},
    "colab_type": "code",
    "id": "3MY6lJvzTy2o"
   },
   "outputs": [],
   "source": [
    "df = pd.read_csv('/content/Label2Names.csv')"
   ]
  },
  {
   "cell_type": "code",
   "execution_count": null,
   "metadata": {
    "colab": {},
    "colab_type": "code",
    "id": "Up4ghOdvYeJF"
   },
   "outputs": [],
   "source": [
    "df = np.array(df)"
   ]
  },
  {
   "cell_type": "code",
   "execution_count": null,
   "metadata": {
    "colab": {},
    "colab_type": "code",
    "id": "hsRWBLT4YxBN"
   },
   "outputs": [],
   "source": [
    "result = []"
   ]
  },
  {
   "cell_type": "code",
   "execution_count": null,
   "metadata": {
    "colab": {},
    "colab_type": "code",
    "id": "6YRpcX4uZNqY"
   },
   "outputs": [],
   "source": [
    "len(df)"
   ]
  },
  {
   "cell_type": "code",
   "execution_count": null,
   "metadata": {
    "colab": {},
    "colab_type": "code",
    "id": "m-NCSoNGYiXu"
   },
   "outputs": [],
   "source": [
    "for i in range(len(y_predict)):\n",
    "  flag = 0\n",
    "  if y_predict[i] == 'BACKGROUND_Google':\n",
    "    flag = 1\n",
    "    result.append(101)\n",
    "  else:\n",
    "    for j in range(len(df)):\n",
    "        if y_predict[i] == df[j][1]:\n",
    "          result.append(df[j][0])\n",
    "          flag = 1\n",
    "  \n",
    "  if flag != 1:\n",
    "    result.append(1)"
   ]
  },
  {
   "cell_type": "code",
   "execution_count": null,
   "metadata": {
    "colab": {},
    "colab_type": "code",
    "id": "QiVOldZOYmnn"
   },
   "outputs": [],
   "source": [
    "len(result)"
   ]
  },
  {
   "cell_type": "code",
   "execution_count": null,
   "metadata": {
    "colab": {},
    "colab_type": "code",
    "id": "YoYEe0C8bNcU"
   },
   "outputs": [],
   "source": [
    "result = np.array(result)"
   ]
  },
  {
   "cell_type": "code",
   "execution_count": null,
   "metadata": {
    "colab": {},
    "colab_type": "code",
    "id": "KlAsej9DbmoK"
   },
   "outputs": [],
   "source": [
    "img_name = np.array(img_name)"
   ]
  },
  {
   "cell_type": "code",
   "execution_count": null,
   "metadata": {
    "colab": {},
    "colab_type": "code",
    "id": "sAjalyyfcSCB"
   },
   "outputs": [],
   "source": [
    "result = result.reshape(-1, 1)\n",
    "img_name = img_name.reshape(-1, 1)\n",
    "total_result = np.hstack([img_name, result])\n",
    "print(total_result)"
   ]
  },
  {
   "cell_type": "code",
   "execution_count": null,
   "metadata": {
    "colab": {},
    "colab_type": "code",
    "id": "RIog4YPrcTFw"
   },
   "outputs": [],
   "source": [
    "df = pd.DataFrame(total_result, columns=['Id', 'Category'])\n",
    "df.to_csv('results-mjkim-v4.csv', index=False, header=True)"
   ]
  },
  {
   "cell_type": "code",
   "execution_count": null,
   "metadata": {
    "colab": {},
    "colab_type": "code",
    "id": "rE2hRk9Gc2y6"
   },
   "outputs": [],
   "source": [
    "! kaggle competitions submit -c 2019-ml-finalproject -f results-mjkim-v4.csv -m \"mjkim-20191123\""
   ]
  },
  {
   "cell_type": "code",
   "execution_count": null,
   "metadata": {
    "colab": {},
    "colab_type": "code",
    "id": "xIU8JSRWiCpA"
   },
   "outputs": [],
   "source": []
  },
  {
   "cell_type": "code",
   "execution_count": null,
   "metadata": {
    "colab": {},
    "colab_type": "code",
    "id": "-IQ-UKuh5Kt3"
   },
   "outputs": [],
   "source": []
  },
  {
   "cell_type": "code",
   "execution_count": null,
   "metadata": {
    "colab": {},
    "colab_type": "code",
    "id": "B1FGYPQMSrVu"
   },
   "outputs": [],
   "source": [
    "def histogramIntersection(M, N):\n",
    "    m = M.shape[0]\n",
    "    n = N.shape[0]\n",
    "    result = np.zeros((m,n))\n",
    "    for i in range(m):\n",
    "        for j in range(n):\n",
    "            temp = np.sum(np.minimum(M[i], N[j]))\n",
    "            result[i][j] = temp\n",
    "            \n",
    "    return result\n",
    "# 히스토그램 유사도를 측정하는 함수(위에 링크에서 가져옴) (SPM 커널 적용하는부분)\n",
    "\n",
    "gramMatrix = histogramIntersection(train_histo, train_histo)\n",
    "# SPM을 통해서 만든 feature의 유사도를 구해서 gramMatrix를 정의\n",
    "clf = SVC(kernel='precomputed')\n",
    "# SVC 진행시 precomputed를 통해서 위에서 정의한 SPM 커널을 기준으로 SVC 진행\n",
    "clf.fit(gramMatrix, y)\n",
    "# SVC 진행시 preconputed를 통해서 위에서 정의한 SPM 커널을 기준으로 SVC 진행\n",
    "predictMatrix = histogramIntersection(X_histo, train_histo)\n",
    "# test셋과 train셋에 대한 유사도를 구한 predictMatrix를 구함\n",
    "SVMResults = clf.predict(predictMatrix)\n",
    "# 이를통해서 최종 결과인 SVMResults를 구함(결과값 클래스 라벨)"
   ]
  },
  {
   "cell_type": "code",
   "execution_count": null,
   "metadata": {
    "colab": {},
    "colab_type": "code",
    "id": "YKs07yCV4KyH"
   },
   "outputs": [],
   "source": [
    "df = pd.read_csv('/content/Label2Names.csv')"
   ]
  },
  {
   "cell_type": "code",
   "execution_count": null,
   "metadata": {
    "colab": {},
    "colab_type": "code",
    "id": "EpSr-Q3T4N_B"
   },
   "outputs": [],
   "source": [
    "df = np.array(df)"
   ]
  },
  {
   "cell_type": "code",
   "execution_count": null,
   "metadata": {
    "colab": {
     "base_uri": "https://localhost:8080/",
     "height": 34
    },
    "colab_type": "code",
    "id": "w_WS8pBT1HI9",
    "outputId": "0c10bb8b-7594-4af8-dec3-a961bb560486"
   },
   "outputs": [],
   "source": [
    "len(df)"
   ]
  },
  {
   "cell_type": "code",
   "execution_count": null,
   "metadata": {
    "colab": {
     "base_uri": "https://localhost:8080/",
     "height": 52
    },
    "colab_type": "code",
    "id": "myCb1EpW4OwH",
    "outputId": "6cdd0e5d-fe5f-4465-e237-90a3ad00d837"
   },
   "outputs": [],
   "source": [
    "SVMResults"
   ]
  },
  {
   "cell_type": "code",
   "execution_count": null,
   "metadata": {
    "colab": {},
    "colab_type": "code",
    "id": "vEDwUG6e356h"
   },
   "outputs": [],
   "source": [
    "result = []\n",
    "for i in range(len(SVMResults)):\n",
    "  flag = 0\n",
    "  if SVMResults[i] == 'BACKGROUND_Google':\n",
    "    flag = 1\n",
    "    result.append(101)\n",
    "  else:\n",
    "    for j in range(len(df)):\n",
    "        if SVMResults[i] == df[j][1]:\n",
    "          result.append(df[j][0])\n",
    "          flag = 1\n",
    "  \n",
    "  if flag != 1:\n",
    "    result.append(1)"
   ]
  },
  {
   "cell_type": "code",
   "execution_count": null,
   "metadata": {
    "colab": {},
    "colab_type": "code",
    "id": "8Q1eWaT54Snq"
   },
   "outputs": [],
   "source": [
    "result = np.array(result)"
   ]
  },
  {
   "cell_type": "code",
   "execution_count": null,
   "metadata": {
    "colab": {
     "base_uri": "https://localhost:8080/",
     "height": 140
    },
    "colab_type": "code",
    "id": "_ZrYDfp14VgH",
    "outputId": "b14db118-6f04-44e0-c280-30f96b5b8439"
   },
   "outputs": [],
   "source": [
    "result = result.reshape(-1, 1)\n",
    "img_name = img_name.reshape(-1, 1)\n",
    "total_result = np.hstack([img_name, result])\n",
    "print(total_result)"
   ]
  },
  {
   "cell_type": "code",
   "execution_count": null,
   "metadata": {
    "colab": {},
    "colab_type": "code",
    "id": "yS0plGKP4XnK"
   },
   "outputs": [],
   "source": [
    "df = pd.DataFrame(total_result, columns=['Id', 'Category'])\n",
    "df.to_csv('results-mjkim-v5.csv', index=False, header=True)"
   ]
  },
  {
   "cell_type": "code",
   "execution_count": null,
   "metadata": {
    "colab": {
     "base_uri": "https://localhost:8080/",
     "height": 52
    },
    "colab_type": "code",
    "id": "wsB1soMU4ZWw",
    "outputId": "b9a6d462-a341-458b-d9f2-1c6f374ebafc"
   },
   "outputs": [],
   "source": [
    "! kaggle competitions submit -c 2019-ml-finalproject -f results-mjkim-v5.csv -m \"mjkim-20191123\""
   ]
  },
  {
   "cell_type": "code",
   "execution_count": null,
   "metadata": {
    "colab": {},
    "colab_type": "code",
    "id": "KDbpZtWNSdJl"
   },
   "outputs": [],
   "source": [
    "from sklearn.preprocessing import StandardScaler\n",
    "\n",
    "scaler = StandardScaler()\n",
    "train_histo = scaler.fit_transform(train_histo)\n",
    "X_histo = scaler.transform(X_histo)"
   ]
  }
 ],
 "metadata": {
  "accelerator": "GPU",
  "colab": {
   "collapsed_sections": [],
   "machine_shape": "hm",
   "name": "PR_Project2.ipynb",
   "provenance": []
  },
  "kernelspec": {
   "display_name": "Python 3",
   "language": "python",
   "name": "python3"
  },
  "language_info": {
   "codemirror_mode": {
    "name": "ipython",
    "version": 3
   },
   "file_extension": ".py",
   "mimetype": "text/x-python",
   "name": "python",
   "nbconvert_exporter": "python",
   "pygments_lexer": "ipython3",
   "version": "3.7.4"
  }
 },
 "nbformat": 4,
 "nbformat_minor": 1
}
