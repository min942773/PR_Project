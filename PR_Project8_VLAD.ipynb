{
  "nbformat": 4,
  "nbformat_minor": 0,
  "metadata": {
    "accelerator": "GPU",
    "colab": {
      "name": "PR_Project8_VLAD (1).ipynb",
      "provenance": [],
      "collapsed_sections": [],
      "machine_shape": "hm"
    },
    "kernelspec": {
      "name": "python3",
      "display_name": "Python 3"
    },
    "language_info": {
      "codemirror_mode": {
        "name": "ipython",
        "version": 3
      },
      "file_extension": ".py",
      "mimetype": "text/x-python",
      "name": "python",
      "nbconvert_exporter": "python",
      "pygments_lexer": "ipython3",
      "version": "3.7.3"
    }
  },
  "cells": [
    {
      "cell_type": "code",
      "metadata": {
        "id": "WKyYdXqtI7l4",
        "colab_type": "code",
        "colab": {}
      },
      "source": [
        "! pip install kmc2"
      ],
      "execution_count": 0,
      "outputs": []
    },
    {
      "cell_type": "code",
      "metadata": {
        "colab_type": "code",
        "id": "yjjMPREcDpZp",
        "colab": {}
      },
      "source": [
        "! yes | pip uninstall opencv-python\n",
        "! yes | pip uninstall opencv-contrib-python\n",
        "! yes | pip install opencv-python==3.4.2.16\n",
        "! yes | pip install opencv-contrib-python==3.4.2.16"
      ],
      "execution_count": 0,
      "outputs": []
    },
    {
      "cell_type": "code",
      "metadata": {
        "id": "ZKvcIUxoHarz",
        "colab_type": "code",
        "colab": {}
      },
      "source": [
        "! pip install imutils"
      ],
      "execution_count": 0,
      "outputs": []
    },
    {
      "cell_type": "code",
      "metadata": {
        "colab_type": "code",
        "id": "VVsb9ARbAXHJ",
        "colab": {}
      },
      "source": [
        "from sklearn.decomposition import MiniBatchDictionaryLearning\n",
        "from sklearn.decomposition import DictionaryLearning\n",
        "from sklearn.model_selection import train_test_split\n",
        "from sklearn.neighbors import KNeighborsClassifier\n",
        "from sklearn.model_selection import GridSearchCV\n",
        "from sklearn.preprocessing import StandardScaler\n",
        "from sklearn.decomposition import SparseCoder\n",
        "from sklearn.cluster import MiniBatchKMeans\n",
        "from sklearn.metrics import accuracy_score\n",
        "from sklearn.datasets import load_iris\n",
        "from sklearn.decomposition import PCA\n",
        "from matplotlib import pyplot as plt\n",
        "from sklearn.cluster import KMeans\n",
        "from sklearn.svm import LinearSVC\n",
        "from sklearn.svm import SVC\n",
        "from imutils import paths\n",
        "\n",
        "import matplotlib.pyplot as plt\n",
        "import scipy.cluster.vq as vq\n",
        "import _pickle as cPickle\n",
        "import pandas as pd\n",
        "import numpy as np\n",
        "import imutils\n",
        "import time\n",
        "import math\n",
        "import copy\n",
        "import kmc2\n",
        "import cv2 \n",
        "import os"
      ],
      "execution_count": 0,
      "outputs": []
    },
    {
      "cell_type": "markdown",
      "metadata": {
        "colab_type": "text",
        "id": "e7PqTcCsB1zD"
      },
      "source": [
        "## 데이터 불러오기"
      ]
    },
    {
      "cell_type": "code",
      "metadata": {
        "colab_type": "code",
        "id": "AWeB9kfU9C37",
        "colab": {}
      },
      "source": [
        "!ls -lha kaggle.json\n",
        "\n",
        "!pip uninstall -y kaggle\n",
        "!pip install --upgrade pip\n",
        "!pip install kaggle==1.5.6"
      ],
      "execution_count": 0,
      "outputs": []
    },
    {
      "cell_type": "code",
      "metadata": {
        "colab_type": "code",
        "id": "HaO27lL194dt",
        "colab": {}
      },
      "source": [
        "! mkdir -p ~/.kaggle\n",
        "! cp kaggle.json ~/.kaggle/\n",
        "! chmod 600 ~/.kaggle/kaggle.json\n",
        "\n",
        "! kaggle -v"
      ],
      "execution_count": 0,
      "outputs": []
    },
    {
      "cell_type": "code",
      "metadata": {
        "colab_type": "code",
        "id": "pj9fzlOt98kh",
        "colab": {}
      },
      "source": [
        "! kaggle competitions download -c 2019-ml-finalproject\n",
        "! A | unzip 2019-ml-finalproject.zip"
      ],
      "execution_count": 0,
      "outputs": []
    },
    {
      "cell_type": "code",
      "metadata": {
        "colab_type": "code",
        "id": "0w3i-NmGALik",
        "colab": {}
      },
      "source": [
        "caltech_dir = \"/content/train\"\n",
        "lists = paths.list_images(caltech_dir)"
      ],
      "execution_count": 0,
      "outputs": []
    },
    {
      "cell_type": "code",
      "metadata": {
        "colab_type": "code",
        "id": "w1LIdl5CDoWG",
        "colab": {}
      },
      "source": [
        "X = []\n",
        "y = []\n",
        "\n",
        "for l in lists:\n",
        "  path = os.path.dirname(l)\n",
        "  # if l[15] != 'B':\n",
        "  X.append(cv2.imread(l))\n",
        "  y.append(os.path.basename(path))\n",
        "\n",
        "# categories.remove('BACKGROUND_Google') # it contains all kinds of images. \n",
        "print(len(X))"
      ],
      "execution_count": 0,
      "outputs": []
    },
    {
      "cell_type": "code",
      "metadata": {
        "colab_type": "code",
        "id": "mnOHJpq7IwAw",
        "colab": {}
      },
      "source": [
        "X = np.array(X)\n",
        "y = np.array(y)\n",
        "\n",
        "print(X.shape)\n",
        "print(y.shape)"
      ],
      "execution_count": 0,
      "outputs": []
    },
    {
      "cell_type": "code",
      "metadata": {
        "colab_type": "code",
        "id": "XptPBLwSrQ4k",
        "colab": {}
      },
      "source": [
        "def extract_denseSIFT(img):\n",
        "    sift = cv2.xfeatures2d.SIFT_create()\n",
        "    disft_step_size = 4\n",
        "    img_gray = cv2.cvtColor(img, cv2.COLOR_BGR2GRAY)\n",
        "    keypoints = [cv2.KeyPoint(x, y, disft_step_size)\n",
        "            for y in range(0, img_gray.shape[0], disft_step_size)\n",
        "                for x in range(0, img_gray.shape[1], disft_step_size)]\n",
        "\n",
        "    descriptors = sift.compute(img_gray, keypoints)[1]\n",
        "\n",
        "    return descriptors"
      ],
      "execution_count": 0,
      "outputs": []
    },
    {
      "cell_type": "code",
      "metadata": {
        "colab_type": "code",
        "id": "qu45JSL6NNRZ",
        "colab": {}
      },
      "source": [
        "import itertools\n",
        "\n",
        "def getDescriptors(X):\n",
        "    descriptors=list()\n",
        "    \n",
        "    for image in X:\n",
        "        des = extract_denseSIFT(image)\n",
        "        descriptors.append(des)\n",
        "        # print(len(kp))\n",
        "        \n",
        "    #flatten list       \n",
        "    descriptors = list(itertools.chain.from_iterable(descriptors))\n",
        "    #list to array\n",
        "    descriptors = np.asarray(descriptors)\n",
        "\n",
        "    return descriptors"
      ],
      "execution_count": 0,
      "outputs": []
    },
    {
      "cell_type": "code",
      "metadata": {
        "colab_type": "code",
        "id": "YKjS1fb4t9Gt",
        "colab": {}
      },
      "source": [
        "descriptors = getDescriptors(X)"
      ],
      "execution_count": 0,
      "outputs": []
    },
    {
      "cell_type": "code",
      "metadata": {
        "colab_type": "code",
        "id": "XWkDoHFxPUdT",
        "colab": {}
      },
      "source": [
        "def kMeansDictionary(training, k):\n",
        "    seeding = kmc2.kmc2(training, k)\n",
        "    est = MiniBatchKMeans(n_clusters=k,init=seeding).fit(training)\n",
        "\n",
        "    return est"
      ],
      "execution_count": 0,
      "outputs": []
    },
    {
      "cell_type": "code",
      "metadata": {
        "colab_type": "code",
        "id": "sARYqCZjPhRL",
        "colab": {}
      },
      "source": [
        "visualDictionary = kMeansDictionary(descriptors, 200)"
      ],
      "execution_count": 0,
      "outputs": []
    },
    {
      "cell_type": "code",
      "metadata": {
        "colab_type": "code",
        "id": "exz8VHuhYeFA",
        "colab": {}
      },
      "source": [
        "def VLAD(X,visualDictionary):\n",
        "\n",
        "    predictedLabels = visualDictionary.predict(X)\n",
        "    centers = visualDictionary.cluster_centers_\n",
        "    labels=visualDictionary.labels_\n",
        "    k=visualDictionary.n_clusters\n",
        "   \n",
        "    m,d = X.shape\n",
        "    V=np.zeros([k,d])\n",
        "    #computing the differences\n",
        "\n",
        "    # for all the clusters (visual words)\n",
        "    for i in range(k):\n",
        "        # if there is at least one descriptor in that cluster\n",
        "        if np.sum(predictedLabels==i)>0:\n",
        "            # add the diferences\n",
        "            V[i]=np.sum(X[predictedLabels==i,:]-centers[i],axis=0)\n",
        "    \n",
        "\n",
        "    V = V.flatten()\n",
        "    # power normalization, also called square-rooting normalization\n",
        "    V = np.sign(V)*np.sqrt(np.abs(V))\n",
        "\n",
        "    # L2 normalization\n",
        "\n",
        "    V = V/np.sqrt(np.dot(V,V))\n",
        "    return V"
      ],
      "execution_count": 0,
      "outputs": []
    },
    {
      "cell_type": "code",
      "metadata": {
        "colab_type": "code",
        "id": "dIESJhm2XS5u",
        "colab": {}
      },
      "source": [
        "def getVLADDescriptors(X,visualDictionary):\n",
        "    descriptors=list()\n",
        "    # idImage =list()\n",
        "    for img in X:\n",
        "        kp,des = extract_denseSIFT(img)\n",
        "        v = VLAD(des,visualDictionary)\n",
        "        descriptors.append(v)\n",
        "        # idImage.append(imagePath)\n",
        "                    \n",
        "    #list to array    \n",
        "    descriptors = np.asarray(descriptors)\n",
        "    return descriptors # , idImage"
      ],
      "execution_count": 0,
      "outputs": []
    },
    {
      "cell_type": "code",
      "metadata": {
        "colab_type": "code",
        "id": "N7sT9BqgJYOI",
        "colab": {}
      },
      "source": [
        "V = getVLADDescriptors(X, visualDictionary)"
      ],
      "execution_count": 0,
      "outputs": []
    },
    {
      "cell_type": "code",
      "metadata": {
        "colab_type": "code",
        "id": "0IKH5gguh0t5",
        "colab": {}
      },
      "source": [
        "all_train_desc = np.vstack((descriptor for descriptor in V))"
      ],
      "execution_count": 0,
      "outputs": []
    },
    {
      "cell_type": "code",
      "metadata": {
        "colab_type": "code",
        "id": "_bVuBe6GjiT_",
        "colab": {}
      },
      "source": [
        "clf = LinearSVC(random_state=0, C=0.001)\n",
        "clf.fit(all_train_desc, y)"
      ],
      "execution_count": 0,
      "outputs": []
    },
    {
      "cell_type": "code",
      "metadata": {
        "colab_type": "code",
        "id": "P8I7cgwSk6DQ",
        "colab": {}
      },
      "source": [
        "caltech_dir = \"/content/testAll_v2\"\n",
        "lists = paths.list_images(caltech_dir)\n",
        "\n",
        "X_final = []\n",
        "img_name = []\n",
        "for l in lists:\n",
        "  path = os.path.dirname(l)\n",
        "  X_final.append(cv2.imread(l))\n",
        "  img_name.append(l[-14:])\n",
        "\n",
        "X_final = np.array(X_final)"
      ],
      "execution_count": 0,
      "outputs": []
    },
    {
      "cell_type": "code",
      "metadata": {
        "colab_type": "code",
        "id": "w4Nb0_fRlul8",
        "colab": {}
      },
      "source": [
        "f_VLAD_DS = getVLADDescriptors(X_final, visualDictionary)"
      ],
      "execution_count": 0,
      "outputs": []
    },
    {
      "cell_type": "code",
      "metadata": {
        "colab_type": "code",
        "id": "OMJEOoHil6h1",
        "colab": {}
      },
      "source": [
        "f_all_train_desc = np.vstack((descriptor for descriptor in f_VLAD_DS))"
      ],
      "execution_count": 0,
      "outputs": []
    },
    {
      "cell_type": "code",
      "metadata": {
        "colab_type": "code",
        "id": "7qEcKctzl_X4",
        "colab": {}
      },
      "source": [
        "y_predict = clf.predict(f_all_train_desc)"
      ],
      "execution_count": 0,
      "outputs": []
    },
    {
      "cell_type": "code",
      "metadata": {
        "colab_type": "code",
        "id": "S6V_TJAxmDqG",
        "colab": {}
      },
      "source": [
        "df = pd.read_csv('/content/Label2Names.csv')\n",
        "df = np.array(df)\n",
        "\n",
        "result = []\n",
        "\n",
        "for i in range(len(y_predict)):\n",
        "  flag = 0\n",
        "  if y_predict[i] == 'BACKGROUND_Google':\n",
        "    flag = 1\n",
        "    result.append(101)\n",
        "  else:\n",
        "    for j in range(len(df)):\n",
        "        if y_predict[i] == df[j][1]:\n",
        "          result.append(df[j][0])\n",
        "          flag = 1\n",
        "  \n",
        "  if flag != 1:\n",
        "    result.append(1)\n",
        "\n",
        "result = np.array(result)\n",
        "img_name = np.array(img_name)\n",
        "result = result.reshape(-1, 1)\n",
        "img_name = img_name.reshape(-1, 1)\n",
        "total_result = np.hstack([img_name, result])\n",
        "print(total_result)"
      ],
      "execution_count": 0,
      "outputs": []
    },
    {
      "cell_type": "code",
      "metadata": {
        "colab_type": "code",
        "id": "V5rCxkHjmPIW",
        "colab": {}
      },
      "source": [
        "df = pd.DataFrame(total_result, columns=['Id', 'Category'])\n",
        "df.to_csv('results-mjkim-v4.csv', index=False, header=True)"
      ],
      "execution_count": 0,
      "outputs": []
    },
    {
      "cell_type": "code",
      "metadata": {
        "colab_type": "code",
        "id": "JnVyt3I0mQyG",
        "colab": {}
      },
      "source": [
        "! kaggle competitions submit -c 2019-ml-finalproject -f results-mjkim-VLAD.csv -m \"mm-20191123\""
      ],
      "execution_count": 0,
      "outputs": []
    },
    {
      "cell_type": "code",
      "metadata": {
        "colab_type": "code",
        "id": "OHbHtVJImR7H",
        "colab": {}
      },
      "source": [
        "with open('/content/VLAD_des.pickle', 'wb') as f:\n",
        "    cPickle.dump(V, f)"
      ],
      "execution_count": 0,
      "outputs": []
    },
    {
      "cell_type": "code",
      "metadata": {
        "id": "tAo3VW7FRPNr",
        "colab_type": "code",
        "colab": {}
      },
      "source": [
        "with open('/content/f_VLAD_des.pickle', 'wb') as f:\n",
        "    cPickle.dump(f_VLAD_DS, f)"
      ],
      "execution_count": 0,
      "outputs": []
    },
    {
      "cell_type": "code",
      "metadata": {
        "id": "ITeOOmjgRURf",
        "colab_type": "code",
        "colab": {}
      },
      "source": [
        ""
      ],
      "execution_count": 0,
      "outputs": []
    }
  ]
}